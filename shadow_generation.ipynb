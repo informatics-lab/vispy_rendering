{
 "cells": [
  {
   "cell_type": "code",
   "execution_count": 1,
   "metadata": {
    "collapsed": false
   },
   "outputs": [
    {
     "ename": "ImportError",
     "evalue": "No module named numpy",
     "output_type": "error",
     "traceback": [
      "\u001b[0;31m---------------------------------------------------------------------------\u001b[0m",
      "\u001b[0;31mImportError\u001b[0m                               Traceback (most recent call last)",
      "\u001b[0;32m<ipython-input-1-1b41452ad487>\u001b[0m in \u001b[0;36m<module>\u001b[0;34m()\u001b[0m\n\u001b[0;32m----> 1\u001b[0;31m \u001b[0;32mimport\u001b[0m \u001b[0mnumpy\u001b[0m \u001b[0;32mas\u001b[0m \u001b[0mnp\u001b[0m\u001b[0;34m\u001b[0m\u001b[0m\n\u001b[0m\u001b[1;32m      2\u001b[0m \u001b[0;32mfrom\u001b[0m \u001b[0mvispy\u001b[0m \u001b[0;32mimport\u001b[0m \u001b[0mapp\u001b[0m\u001b[0;34m\u001b[0m\u001b[0m\n\u001b[1;32m      3\u001b[0m \u001b[0;32mfrom\u001b[0m \u001b[0mvispy\u001b[0m \u001b[0;32mimport\u001b[0m \u001b[0mgloo\u001b[0m\u001b[0;34m\u001b[0m\u001b[0m\n\u001b[1;32m      4\u001b[0m \u001b[0;32mfrom\u001b[0m \u001b[0mvispy\u001b[0m\u001b[0;34m.\u001b[0m\u001b[0mio\u001b[0m \u001b[0;32mimport\u001b[0m \u001b[0mimsave\u001b[0m\u001b[0;34m\u001b[0m\u001b[0m\n\u001b[1;32m      5\u001b[0m \u001b[0;32mimport\u001b[0m \u001b[0mOpenGL\u001b[0m\u001b[0;34m.\u001b[0m\u001b[0mGL\u001b[0m \u001b[0;32mas\u001b[0m \u001b[0mgl\u001b[0m\u001b[0;34m\u001b[0m\u001b[0m\n",
      "\u001b[0;31mImportError\u001b[0m: No module named numpy"
     ]
    }
   ],
   "source": [
    "import numpy as np\n",
    "from vispy import app\n",
    "from vispy import gloo\n",
    "from vispy.io import imsave\n",
    "import OpenGL.GL as gl\n",
    "from scipy import misc"
   ]
  },
  {
   "cell_type": "code",
   "execution_count": 2,
   "metadata": {
    "collapsed": false
   },
   "outputs": [],
   "source": [
    "cloudImage = misc.imread('/Users/rachel/Downloads/cloud_frac_padded_623_812_70_4096_4096.png')\n",
    "divisor = np.full((4096, 4096, 3), 255.0)\n",
    "cloudScaledImage = np.divide(cloudImage, divisor).astype(np.float32)\n",
    "cloudTex = gloo.Texture2D(cloudScaledImage)"
   ]
  },
  {
   "cell_type": "code",
   "execution_count": 4,
   "metadata": {
    "collapsed": false
   },
   "outputs": [
    {
     "name": "stderr",
     "output_type": "stream",
     "text": [
      "INFO: Could not import backend \"PyQt4\":\n",
      "No module named PyQt4\n",
      "INFO:vispy:Could not import backend \"PyQt4\":\n",
      "No module named PyQt4\n",
      "INFO: Could not import backend \"PyQt5\":\n",
      "No module named PyQt5\n",
      "INFO:vispy:Could not import backend \"PyQt5\":\n",
      "No module named PyQt5\n",
      "INFO: Could not import backend \"PySide\":\n",
      "dlopen(/Library/Python/2.7/site-packages/PySide/QtOpenGL.so, 2): Library not loaded: libpyside-python2.7.1.2.dylib\n",
      "  Referenced from: /Library/Python/2.7/site-packages/PySide/QtOpenGL.so\n",
      "  Reason: image not found\n",
      "INFO:vispy:Could not import backend \"PySide\":\n",
      "dlopen(/Library/Python/2.7/site-packages/PySide/QtOpenGL.so, 2): Library not loaded: libpyside-python2.7.1.2.dylib\n",
      "  Referenced from: /Library/Python/2.7/site-packages/PySide/QtOpenGL.so\n",
      "  Reason: image not found\n"
     ]
    }
   ],
   "source": [
    "c = app.Canvas(show=False, size=(4096,4096))"
   ]
  },
  {
   "cell_type": "code",
   "execution_count": 5,
   "metadata": {
    "collapsed": false
   },
   "outputs": [],
   "source": [
    "vertex = \"\"\"\n",
    "    attribute vec2 a_position;\n",
    "\tattribute vec2 a_texCoord;\n",
    "\tuniform vec2 u_resolution;\n",
    "\tvarying vec2 v_texCoord;\n",
    "\tvoid main() {\n",
    "\t\t// convert the rectangle from pixels to 0.0 to 1.0\n",
    "\t\tvec2 zeroToOne = a_position / u_resolution;\n",
    "\t\t// convert from 0->1 to 0->2\n",
    "\t\tvec2 zeroToTwo = zeroToOne * 2.0;\n",
    "\t\t// convert from 0->2 to -1->+1 (clipspace)\n",
    "\t\tvec2 clipSpace = zeroToTwo - 1.0;\n",
    "\t\tgl_Position = vec4(clipSpace * vec2(1, -1), 0, 1);\n",
    "        //gl_Position = vec4(zeroToOne * vec2(1, -1), 0, 1);\n",
    "\t\t// pass the texCoord to the fragment shader\n",
    "\t\t// The GPU will interpolate this value between points.\n",
    "\t\tv_texCoord = zeroToOne;\n",
    "\t} \"\"\""
   ]
  },
  {
   "cell_type": "code",
   "execution_count": 6,
   "metadata": {
    "collapsed": true
   },
   "outputs": [],
   "source": [
    "fragment = \"\"\"\n",
    "    precision mediump float;\n",
    "\t// our texture\n",
    "\tuniform sampler2D dataTexture;\n",
    "\t// the texCoords passed in from the vertex shader.\n",
    "\tvarying vec2 v_texCoord;\n",
    "\tconst vec3 lightPosition = vec3(20.0, 0.0, 0.0);\n",
    "\tconst vec3 dataShape = vec3(623.0, 812.0, 70.0);\n",
    "\tconst int nSlices = 30;\n",
    "\tconst int nSlicesPerRow = 6;\n",
    "\tconst float sliceW = 623.0;\n",
    "\tconst float sliceH = 812.0;\n",
    "\tconst float alphaCorrection = 2.0/81.0;\n",
    "\tconst vec2 textureShape = vec2(4096.0, 4096.0);\n",
    "\tvec3 getDatumColor(float datum) {\n",
    "        vec3 color = vec3(1, 1, 0);\n",
    "        return color;\n",
    "    }\n",
    "    float getDatumAlpha(float datum) {\n",
    "        return datum * alphaCorrection;\n",
    "    }\n",
    "    vec3 mapTo2D(in vec3 p, float sliceW, float sliceH, int nSlicesPerRow, int nSlices){\n",
    "        float zLevel = floor(p.z * 90.0);\n",
    "        float zIndex = floor(zLevel / float(nSlices));\n",
    "        float sliceIndex = (zLevel - (zIndex * float(nSlices)));\n",
    "        float oSliceRow = floor(sliceIndex / float(nSlicesPerRow));\n",
    "        //Rows are now in the opposite order\n",
    "        float sliceRow = 4.0 - oSliceRow;\n",
    "        float sliceCol = sliceIndex - float(nSlicesPerRow) * oSliceRow;\n",
    "        \n",
    "        vec2 pxy = (p.xy + vec2(sliceCol, sliceRow)) * vec2(sliceW, sliceH);\n",
    "        return vec3(pxy, zIndex);\n",
    "    }\n",
    "    float sample3DTexture(sampler2D slices, vec3 p, float sliceW, float sliceH, int nSlicesPerRow, int nSlices, float bias){\n",
    "        if(any(greaterThan(p, vec3(1.0))) || any(lessThan(p, vec3(0.0))))\n",
    "           return 0.0;\n",
    "        vec3 position = mapTo2D(p, sliceW, sliceH, nSlicesPerRow, nSlices);\n",
    "        float zTile = position.z;\n",
    "        vec4 datumRGB = texture2D(slices, position.xy / vec2(4096.0), bias);\n",
    "        float datum;\n",
    "        if (zTile == 0.0){\n",
    "            datum = datumRGB.r;\n",
    "        }else if (zTile == 1.0){\n",
    "            datum = datumRGB.g;\n",
    "        }else if (zTile == 2.0){\n",
    "            datum = datumRGB.b;\n",
    "        }\n",
    "        return datum;\n",
    "    }\n",
    "    float sample3DTexture(sampler2D slices, vec3 p, float sliceW, float sliceH, int nSlicesPerRow, int nSlices){\n",
    "        return sample3DTexture(slices, p, sliceW, sliceH, nSlicesPerRow, nSlices, 0.0);\n",
    "    }\n",
    "    vec4 getRGBAfromDataTex(sampler2D tex, vec3 pos, vec3 dataShape, vec2 texShape){\n",
    "        // pos.xyz = clamp(pos.xyz, 0.01,0.99);\n",
    "        //float datum = sampleAs3DTexture(tex, pos, dataShape, texShape);\n",
    "        float datum = sample3DTexture(tex, pos, sliceW, sliceH, nSlicesPerRow, nSlices);\n",
    "        vec3 color = getDatumColor(datum);\n",
    "        float alpha = getDatumAlpha(datum);\n",
    "        return vec4(color.xyz, alpha);\n",
    "    }\n",
    "\tfloat getPathRGBA(vec3 startPos, vec3 endPos, float steps, sampler2D tex){\n",
    "        /* Calculates the total RGBA values of a given path through a texture */\n",
    "        //The direction from the front position to back position.\n",
    "        vec3 dir = endPos - startPos;\n",
    "        //vec3 dir = vec3(0.0,0.0,1.0);\n",
    "    \n",
    "        float rayLength = length(dir);\n",
    "    \n",
    "        //Calculate how long to increment in each step.\n",
    "        float delta = 1.0 / steps;\n",
    "        //The increment in each direction for each step.\n",
    "        vec3 deltaDirection = normalize(dir) * delta;\n",
    "        float deltaDirectionLength = length(deltaDirection);\n",
    "        vec3 currentPosition = startPos;\n",
    "    \n",
    "        //The alpha value accumulated so far.\n",
    "        float accumulatedAlpha = 0.0;\n",
    "    \n",
    "        //How long has the ray travelled so far.\n",
    "        float accumulatedLength = 0.0;\n",
    "    \n",
    "        //vec4 dataSample;\n",
    "        vec4 dataSample;\n",
    "        float alphaSample;\n",
    "        //Perform the ray marching iterations\n",
    "        for(int i = 0; i < 81; i++){\n",
    "            //Get the voxel intensity value from the 3D texture.    \n",
    "            dataSample = getRGBAfromDataTex(dataTexture, currentPosition, dataShape, textureShape);\n",
    "            //Store the alpha accumulated so far.\n",
    "            accumulatedAlpha += dataSample.a;\n",
    "        \n",
    "            //Advance the ray.\n",
    "            currentPosition += deltaDirection;\n",
    "            accumulatedLength += deltaDirectionLength;\n",
    "                      \n",
    "            //If the length traversed is more than the ray length, or if the alpha accumulated reaches 1.0 then exit.\n",
    "            if(accumulatedLength >= rayLength || accumulatedAlpha >= 1.0 ){\n",
    "                break;\n",
    "            }\n",
    "        }\n",
    "        return min(accumulatedAlpha, 1.0);\n",
    "    }\n",
    "\tvec3 mapTo3D(vec3 pos, float sliceW, float sliceH, int nSlicesPerRow, int nSlices) {\n",
    "\t\tint sliceCol = int(floor(pos.x / sliceW));\n",
    "\t\tint sliceRow = int(floor(pos.y / sliceH));\n",
    "        //Fix to put rows in the right order\n",
    "        int sliceIndex = (((4 - sliceRow) * nSlicesPerRow) + (sliceCol));\n",
    "\t\tvec2 pxy = (pos.xy / vec2(sliceW, sliceH)) - vec2(sliceCol, sliceRow);\n",
    "\t\t//pos.z in {0,1,2}\n",
    "\t\tint z = ((int(pos.z) * nSlices) + sliceIndex);\n",
    "\t\tfloat pz = float(z)/90.0;\n",
    "\t\treturn vec3(pxy, pz);\n",
    "\t}\n",
    "\tvoid main() {\n",
    "\t   // Look up a color from the texture.\n",
    "\t   vec4 inPixel = texture2D(dataTexture, v_texCoord);\n",
    "       float diff = 0.01 * 4096.0;\n",
    "\t   vec3 rInCoord = vec3(v_texCoord*4096.0, 0.0);\n",
    "\t   vec3 gInCoord = vec3(v_texCoord*4096.0, 1.0);\n",
    "\t   vec3 bInCoord = vec3(v_texCoord*4096.0, 2.0);\n",
    "\t   vec3 rPoint = mapTo3D(rInCoord, sliceW, sliceH, nSlicesPerRow, nSlices);\n",
    "\t   vec3 bPoint = mapTo3D(bInCoord, sliceW, sliceH, nSlicesPerRow, nSlices);\n",
    "\t   vec3 gPoint = mapTo3D(gInCoord, sliceW, sliceH, nSlicesPerRow, nSlices);\n",
    "\t   float rOut = getPathRGBA(rPoint, lightPosition, 81.0, dataTexture);\n",
    "\t   float bOut = getPathRGBA(bPoint, lightPosition, 81.0, dataTexture);\n",
    "\t   float gOut = getPathRGBA(gPoint, lightPosition, 81.0, dataTexture);\n",
    "\t   vec3 absorbed = vec3(rOut, gOut, bOut);\n",
    "\t   vec3 light = vec3(1.0) - absorbed;\n",
    "\t   gl_FragColor = vec4(absorbed, 1.0);\n",
    "       //gl_FragColor = vec4(v_texCoord, 0.0 ,1.0);\n",
    "\t} \"\"\""
   ]
  },
  {
   "cell_type": "code",
   "execution_count": 7,
   "metadata": {
    "collapsed": false
   },
   "outputs": [],
   "source": [
    "program = gloo.Program(vertex, fragment, count=4)\n",
    "program['dataTexture']    = cloudTex\n",
    "program['u_resolution'] = np.array([4096.0, 4096.0])"
   ]
  },
  {
   "cell_type": "code",
   "execution_count": 8,
   "metadata": {
    "collapsed": false
   },
   "outputs": [],
   "source": [
    "my_positions_array = np.array([ (0,0),   (0,4096),   (4096,0),   (4096,4096)   ])"
   ]
  },
  {
   "cell_type": "code",
   "execution_count": 9,
   "metadata": {
    "collapsed": false
   },
   "outputs": [],
   "source": [
    "program['a_position'] = gloo.VertexBuffer(my_positions_array.astype(np.float32))"
   ]
  },
  {
   "cell_type": "code",
   "execution_count": 11,
   "metadata": {
    "collapsed": true
   },
   "outputs": [],
   "source": [
    "@c.connect\n",
    "def on_draw(event):\n",
    "    gloo.clear((1,1,1,1))\n",
    "    program.draw(gl.GL_TRIANGLE_STRIP)\n",
    "    im = gloo.util._screenshot((0, 0, c.size[0], c.size[1]))\n",
    "    imsave('/Users/rachel/Downloads/screenshot1000.png', im)\n",
    "    c.close()"
   ]
  },
  {
   "cell_type": "code",
   "execution_count": 12,
   "metadata": {
    "collapsed": false
   },
   "outputs": [
    {
     "name": "stderr",
     "output_type": "stream",
     "text": [
      "INFO: Variable a_texCoord is not an active attribute\n",
      "INFO:vispy:Variable a_texCoord is not an active attribute\n"
     ]
    },
    {
     "name": "stdout",
     "output_type": "stream",
     "text": [
      "(4096, 4096)\n"
     ]
    }
   ],
   "source": [
    "app.run();"
   ]
  },
  {
   "cell_type": "code",
   "execution_count": null,
   "metadata": {
    "collapsed": true
   },
   "outputs": [],
   "source": []
  },
  {
   "cell_type": "code",
   "execution_count": null,
   "metadata": {
    "collapsed": true
   },
   "outputs": [],
   "source": []
  },
  {
   "cell_type": "code",
   "execution_count": null,
   "metadata": {
    "collapsed": true
   },
   "outputs": [],
   "source": []
  },
  {
   "cell_type": "code",
   "execution_count": null,
   "metadata": {
    "collapsed": true
   },
   "outputs": [],
   "source": []
  }
 ],
 "metadata": {
  "kernelspec": {
   "display_name": "Python 2",
   "language": "python",
   "name": "python2"
  },
  "language_info": {
   "codemirror_mode": {
    "name": "ipython",
    "version": 2
   },
   "file_extension": ".py",
   "mimetype": "text/x-python",
   "name": "python",
   "nbconvert_exporter": "python",
   "pygments_lexer": "ipython2",
   "version": "2.7.6"
  }
 },
 "nbformat": 4,
 "nbformat_minor": 0
}
